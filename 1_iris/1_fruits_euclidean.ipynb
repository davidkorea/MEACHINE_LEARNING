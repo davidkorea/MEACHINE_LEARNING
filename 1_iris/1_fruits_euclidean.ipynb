{
 "cells": [
  {
   "cell_type": "code",
   "execution_count": 1,
   "metadata": {},
   "outputs": [
    {
     "name": "stderr",
     "output_type": "stream",
     "text": [
      "/usr/local/Cellar/python3/3.6.3/Frameworks/Python.framework/Versions/3.6/lib/python3.6/importlib/_bootstrap.py:219: RuntimeWarning: numpy.dtype size changed, may indicate binary incompatibility. Expected 96, got 88\n",
      "  return f(*args, **kwds)\n",
      "/usr/local/Cellar/python3/3.6.3/Frameworks/Python.framework/Versions/3.6/lib/python3.6/importlib/_bootstrap.py:219: RuntimeWarning: numpy.dtype size changed, may indicate binary incompatibility. Expected 96, got 88\n",
      "  return f(*args, **kwds)\n"
     ]
    }
   ],
   "source": [
    "import pandas as pd\n",
    "import numpy as np\n",
    "import matplotlib.pyplot as plt\n",
    "from scipy.spatial.distance import euclidean\n",
    "from sklearn.model_selection import train_test_split"
   ]
  },
  {
   "cell_type": "code",
   "execution_count": null,
   "metadata": {},
   "outputs": [],
   "source": []
  },
  {
   "cell_type": "markdown",
   "metadata": {},
   "source": [
    "* fruit_name：水果类别 \n",
    "* mass: 水果质量 \n",
    "* width: 水果的宽度 \n",
    "* height: 水果的高度 \n",
    "* color_score: 水果的颜色数值，范围0-1。 \n",
    "\n",
    "![](https://raw.githubusercontent.com/davidkorea/Iris_classifier/master/images/color_score.jpg)"
   ]
  },
  {
   "cell_type": "code",
   "execution_count": 2,
   "metadata": {},
   "outputs": [],
   "source": [
    "data_df = pd.read_csv('../data/fruit_data.csv')"
   ]
  },
  {
   "cell_type": "code",
   "execution_count": 5,
   "metadata": {},
   "outputs": [
    {
     "data": {
      "text/html": [
       "<div>\n",
       "<style scoped>\n",
       "    .dataframe tbody tr th:only-of-type {\n",
       "        vertical-align: middle;\n",
       "    }\n",
       "\n",
       "    .dataframe tbody tr th {\n",
       "        vertical-align: top;\n",
       "    }\n",
       "\n",
       "    .dataframe thead th {\n",
       "        text-align: right;\n",
       "    }\n",
       "</style>\n",
       "<table border=\"1\" class=\"dataframe\">\n",
       "  <thead>\n",
       "    <tr style=\"text-align: right;\">\n",
       "      <th></th>\n",
       "      <th>fruit_name</th>\n",
       "      <th>mass</th>\n",
       "      <th>width</th>\n",
       "      <th>height</th>\n",
       "      <th>color_score</th>\n",
       "    </tr>\n",
       "  </thead>\n",
       "  <tbody>\n",
       "    <tr>\n",
       "      <th>0</th>\n",
       "      <td>apple</td>\n",
       "      <td>192</td>\n",
       "      <td>8.4</td>\n",
       "      <td>7.3</td>\n",
       "      <td>0.55</td>\n",
       "    </tr>\n",
       "    <tr>\n",
       "      <th>1</th>\n",
       "      <td>apple</td>\n",
       "      <td>180</td>\n",
       "      <td>8.0</td>\n",
       "      <td>6.8</td>\n",
       "      <td>0.59</td>\n",
       "    </tr>\n",
       "    <tr>\n",
       "      <th>2</th>\n",
       "      <td>apple</td>\n",
       "      <td>176</td>\n",
       "      <td>7.4</td>\n",
       "      <td>7.2</td>\n",
       "      <td>0.60</td>\n",
       "    </tr>\n",
       "    <tr>\n",
       "      <th>3</th>\n",
       "      <td>mandarin</td>\n",
       "      <td>86</td>\n",
       "      <td>6.2</td>\n",
       "      <td>4.7</td>\n",
       "      <td>0.80</td>\n",
       "    </tr>\n",
       "    <tr>\n",
       "      <th>4</th>\n",
       "      <td>mandarin</td>\n",
       "      <td>84</td>\n",
       "      <td>6.0</td>\n",
       "      <td>4.6</td>\n",
       "      <td>0.79</td>\n",
       "    </tr>\n",
       "  </tbody>\n",
       "</table>\n",
       "</div>"
      ],
      "text/plain": [
       "  fruit_name  mass  width  height  color_score\n",
       "0      apple   192    8.4     7.3         0.55\n",
       "1      apple   180    8.0     6.8         0.59\n",
       "2      apple   176    7.4     7.2         0.60\n",
       "3   mandarin    86    6.2     4.7         0.80\n",
       "4   mandarin    84    6.0     4.6         0.79"
      ]
     },
     "execution_count": 5,
     "metadata": {},
     "output_type": "execute_result"
    }
   ],
   "source": [
    "data_df.head()"
   ]
  },
  {
   "cell_type": "code",
   "execution_count": 4,
   "metadata": {},
   "outputs": [
    {
     "name": "stdout",
     "output_type": "stream",
     "text": [
      "<class 'pandas.core.frame.DataFrame'>\n",
      "RangeIndex: 59 entries, 0 to 58\n",
      "Data columns (total 5 columns):\n",
      "fruit_name     59 non-null object\n",
      "mass           59 non-null int64\n",
      "width          59 non-null float64\n",
      "height         59 non-null float64\n",
      "color_score    59 non-null float64\n",
      "dtypes: float64(3), int64(1), object(1)\n",
      "memory usage: 2.4+ KB\n"
     ]
    }
   ],
   "source": [
    "data_df.info()"
   ]
  },
  {
   "cell_type": "markdown",
   "metadata": {},
   "source": [
    "**note1**\n",
    "\n",
    "```data_df.columns.tolist()[1:]```, get column's name and tansform to list[], then get features name by slicing"
   ]
  },
  {
   "cell_type": "code",
   "execution_count": 10,
   "metadata": {},
   "outputs": [
    {
     "data": {
      "text/plain": [
       "['mass', 'width', 'height', 'color_score']"
      ]
     },
     "execution_count": 10,
     "metadata": {},
     "output_type": "execute_result"
    }
   ],
   "source": [
    "FEAT_COLS = data_df.columns.tolist()[1:]\n",
    "FEAT_COLS"
   ]
  },
  {
   "cell_type": "code",
   "execution_count": 11,
   "metadata": {},
   "outputs": [
    {
     "data": {
      "text/plain": [
       "orange      19\n",
       "apple       19\n",
       "lemon       16\n",
       "mandarin     5\n",
       "Name: fruit_name, dtype: int64"
      ]
     },
     "execution_count": 11,
     "metadata": {},
     "output_type": "execute_result"
    }
   ],
   "source": [
    "data_df.fruit_name.value_counts()"
   ]
  },
  {
   "cell_type": "code",
   "execution_count": 12,
   "metadata": {},
   "outputs": [],
   "source": [
    "orange = data_df[data_df['fruit_name'] == 'orange']\n",
    "apple = data_df[data_df['fruit_name'] == 'apple']\n",
    "lemon = data_df[data_df['fruit_name'] == 'lemon']\n",
    "mandarin = data_df[data_df['fruit_name'] == 'mandarin']"
   ]
  },
  {
   "cell_type": "code",
   "execution_count": 52,
   "metadata": {},
   "outputs": [
    {
     "data": {
      "image/png": "[encoded data removed]",
      "text/plain": [
       "<Figure size 1152x648 with 1 Axes>"
      ]
     },
     "metadata": {},
     "output_type": "display_data"
    }
   ],
   "source": [
    "plt.figure(figsize=(16,9))\n",
    "plt.scatter(data=orange, x=orange['width'], y=orange['height'], s=orange['mass']*2, c='orange')\n",
    "plt.scatter(data=apple, x=apple['width'], y=apple['height'], s=apple['mass']*2, c='r')\n",
    "plt.scatter(data=lemon, x=lemon['width'], y=lemon['height'], s=lemon['mass']*2, c='y', alpha=0.5)\n",
    "plt.scatter(data=mandarin, x=mandarin['width'], y=mandarin['height'], s=mandarin['mass']*2, c='b')\n",
    "plt.grid()\n",
    "plt.xlabel('width / cm')\n",
    "plt.ylabel('height / cm')\n",
    "plt.legend(['orange','apple','lemon','mandarin'],loc='best')\n",
    "plt.tight_layout()"
   ]
  },
  {
   "cell_type": "code",
   "execution_count": 53,
   "metadata": {},
   "outputs": [],
   "source": [
    "train_data, test_data = train_test_split(data_df, test_size=1/5, random_state=20)"
   ]
  },
  {
   "cell_type": "code",
   "execution_count": 55,
   "metadata": {},
   "outputs": [
    {
     "data": {
      "text/plain": [
       "<bound method DataFrame.iterrows of    fruit_name  mass  width  height  color_score\n",
       "4    mandarin    84    6.0     4.6         0.79\n",
       "23      apple   170    7.6     7.9         0.88\n",
       "17      apple   168    7.5     7.6         0.73\n",
       "56      lemon   116    5.9     8.1         0.73\n",
       "37     orange   154    7.3     7.3         0.79\n",
       "12      apple   154    7.0     7.1         0.88\n",
       "52      lemon   118    5.9     8.0         0.72\n",
       "5    mandarin    80    5.8     4.3         0.77\n",
       "24     orange   342    9.0     9.4         0.75\n",
       "36     orange   160    7.1     7.6         0.76\n",
       "44      lemon   200    7.3    10.5         0.72\n",
       "2       apple   176    7.4     7.2         0.60>"
      ]
     },
     "execution_count": 55,
     "metadata": {},
     "output_type": "execute_result"
    }
   ],
   "source": [
    "test_data.iterrows"
   ]
  },
  {
   "cell_type": "code",
   "execution_count": 63,
   "metadata": {},
   "outputs": [
    {
     "name": "stdout",
     "output_type": "stream",
     "text": [
      "predict: mandarin  ->  ture: mandarin\n",
      "predict: apple  ->  ture: apple\n",
      "predict: apple  ->  ture: apple\n",
      "predict: lemon  ->  ture: lemon\n",
      "predict: orange  ->  ture: orange\n",
      "predict: orange  ->  ture: apple\n",
      "predict: lemon  ->  ture: lemon\n",
      "predict: mandarin  ->  ture: mandarin\n",
      "predict: orange  ->  ture: orange\n",
      "predict: orange  ->  ture: orange\n",
      "predict: lemon  ->  ture: lemon\n",
      "predict: apple  ->  ture: apple\n",
      "0.9166666666666666\n"
     ]
    }
   ],
   "source": [
    "acc_count = 0\n",
    "for idx, row in test_data.iterrows():\n",
    "    test_sample_feat = row[FEAT_COLS].values\n",
    "    dis_list = []\n",
    "    for i, r in train_data.iterrows():\n",
    "        train_sample_feat = r[FEAT_COLS].values\n",
    "        dis = euclidean(train_sample_feat, test_sample_feat)\n",
    "        dis_list.append(dis)\n",
    "    pos = np.argmin(dis_list)\n",
    "    pred_label = train_data.iloc[pos]['fruit_name']\n",
    "    true_label = row['fruit_name']\n",
    "    if true_label == pred_label:\n",
    "        acc_count += 1\n",
    "    accuracy = acc_count/test_data.shape[0]\n",
    "    print('predict:' , pred_label, ' -> ','ture:', true_label)\n",
    "print(accuracy)"
   ]
  },
  {
   "cell_type": "code",
   "execution_count": null,
   "metadata": {},
   "outputs": [],
   "source": []
  },
  {
   "cell_type": "code",
   "execution_count": null,
   "metadata": {},
   "outputs": [],
   "source": []
  },
  {
   "cell_type": "markdown",
   "metadata": {},
   "source": [
    "```python\n",
    "import pandas as pd\n",
    "from sklearn.model_selection import train_test_split\n",
    "from scipy.spatial.distance import euclidean\n",
    "import numpy as np\n",
    "\n",
    "\n",
    "# 使用的特征列\n",
    "FEAT_COLS = ['mass', 'width', 'height', 'color_score']\n",
    "\n",
    "\n",
    "def get_prediction(test_sample_feat, train_data):\n",
    "    \"\"\"\n",
    "        在训练集中找出和test_sample_feat最近的训练样本，并以训练样本的标签作为预测值\n",
    "        参数：\n",
    "            -test_sample_feat: 测试样本的特征\n",
    "            -train_data:  训练集\n",
    "        返回：\n",
    "            -pred_label:  预测结果\n",
    "    \"\"\"\n",
    "    dis_list = []\n",
    "\n",
    "    for idx, row in train_data.iterrows():\n",
    "        # 训练样本特征\n",
    "        train_sample_feat = row[FEAT_COLS].values\n",
    "\n",
    "        # 2. 样本间距离计算\n",
    "        dis = euclidean(train_sample_feat, test_sample_feat)\n",
    "        dis_list.append(dis)\n",
    "\n",
    "    # 3. 找到最近的样本\n",
    "    pos = np.argmin(dis_list)\n",
    "    pred_label = train_data.iloc[pos]['fruit_name']\n",
    "    return pred_label\n",
    "\n",
    "\n",
    "def main():\n",
    "    \"\"\"\n",
    "        主函数\n",
    "    \"\"\"\n",
    "    # 读取数据文件\n",
    "    fruit_data = pd.read_csv('./fruit_data.csv')\n",
    "\n",
    "    # 1. 分割数据集\n",
    "    train_data, test_data = train_test_split(fruit_data, test_size=1/5, random_state=20)\n",
    "\n",
    "    # 预测准确的个数\n",
    "    acc_count = 0\n",
    "\n",
    "    # 对测试集中每个样本做预测\n",
    "    for idx, row in test_data.iterrows():\n",
    "        # 测试样本特征\n",
    "        test_sample_feat = row[FEAT_COLS].values\n",
    "\n",
    "        # 在训练集中找出和该样本最近的训练样本，并以训练样本的标签作为预测值\n",
    "        pred_label = get_prediction(test_sample_feat, train_data)\n",
    "\n",
    "        # 真实标签\n",
    "        true_label = row['fruit_name']\n",
    "        print('样本{}的真实标签：{}，预测标签：{}'.format(idx, true_label, pred_label))\n",
    "\n",
    "        if pred_label == true_label:\n",
    "            acc_count += 1\n",
    "\n",
    "    # 4. 使用准确率验证模型\n",
    "    accuracy = acc_count / test_data.shape[0]\n",
    "    print('预测准确率为：{:.2f}%'.format(accuracy * 100))\n",
    "\n",
    "\n",
    "if __name__ == '__main__':\n",
    "    main()\n",
    "```"
   ]
  }
 ],
 "metadata": {
  "kernelspec": {
   "display_name": "Python 3",
   "language": "python",
   "name": "python3"
  },
  "language_info": {
   "codemirror_mode": {
    "name": "ipython",
    "version": 3
   },
   "file_extension": ".py",
   "mimetype": "text/x-python",
   "name": "python",
   "nbconvert_exporter": "python",
   "pygments_lexer": "ipython3",
   "version": "3.6.3"
  }
 },
 "nbformat": 4,
 "nbformat_minor": 2
}
