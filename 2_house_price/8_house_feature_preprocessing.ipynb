{
 "cells": [
  {
   "cell_type": "code",
   "execution_count": 1,
   "metadata": {},
   "outputs": [],
   "source": [
    "import pandas as pd\n",
    "from sklearn.model_selection import train_test_split\n",
    "from sklearn.linear_model import LinearRegression\n",
    "from sklearn.preprocessing import OneHotEncoder, MinMaxScaler\n",
    "import numpy as np"
   ]
  },
  {
   "cell_type": "markdown",
   "metadata": {},
   "source": [
    "- pd.get_dummies()\n",
    "- OneHotEncoder()"
   ]
  },
  {
   "cell_type": "code",
   "execution_count": 4,
   "metadata": {},
   "outputs": [],
   "source": [
    "NUMERIC_FEAT_COLS = ['sqft_living', 'sqft_above', 'sqft_basement', 'long', 'lat']\n",
    "CATEGORY_FEAT_COLS = ['waterfront']"
   ]
  },
  {
   "cell_type": "code",
   "execution_count": 9,
   "metadata": {},
   "outputs": [
    {
     "data": {
      "text/html": [
       "<div>\n",
       "<style scoped>\n",
       "    .dataframe tbody tr th:only-of-type {\n",
       "        vertical-align: middle;\n",
       "    }\n",
       "\n",
       "    .dataframe tbody tr th {\n",
       "        vertical-align: top;\n",
       "    }\n",
       "\n",
       "    .dataframe thead th {\n",
       "        text-align: right;\n",
       "    }\n",
       "</style>\n",
       "<table border=\"1\" class=\"dataframe\">\n",
       "  <thead>\n",
       "    <tr style=\"text-align: right;\">\n",
       "      <th></th>\n",
       "      <th>price</th>\n",
       "      <th>sqft_living</th>\n",
       "      <th>waterfront</th>\n",
       "      <th>sqft_above</th>\n",
       "      <th>sqft_basement</th>\n",
       "      <th>lat</th>\n",
       "      <th>long</th>\n",
       "    </tr>\n",
       "  </thead>\n",
       "  <tbody>\n",
       "    <tr>\n",
       "      <th>0</th>\n",
       "      <td>221900.0</td>\n",
       "      <td>1180</td>\n",
       "      <td>0</td>\n",
       "      <td>1180</td>\n",
       "      <td>0</td>\n",
       "      <td>47.5112</td>\n",
       "      <td>-122.257</td>\n",
       "    </tr>\n",
       "    <tr>\n",
       "      <th>1</th>\n",
       "      <td>538000.0</td>\n",
       "      <td>2570</td>\n",
       "      <td>0</td>\n",
       "      <td>2170</td>\n",
       "      <td>400</td>\n",
       "      <td>47.7210</td>\n",
       "      <td>-122.319</td>\n",
       "    </tr>\n",
       "    <tr>\n",
       "      <th>2</th>\n",
       "      <td>180000.0</td>\n",
       "      <td>770</td>\n",
       "      <td>0</td>\n",
       "      <td>770</td>\n",
       "      <td>0</td>\n",
       "      <td>47.7379</td>\n",
       "      <td>-122.233</td>\n",
       "    </tr>\n",
       "    <tr>\n",
       "      <th>3</th>\n",
       "      <td>604000.0</td>\n",
       "      <td>1960</td>\n",
       "      <td>0</td>\n",
       "      <td>1050</td>\n",
       "      <td>910</td>\n",
       "      <td>47.5208</td>\n",
       "      <td>-122.393</td>\n",
       "    </tr>\n",
       "    <tr>\n",
       "      <th>4</th>\n",
       "      <td>510000.0</td>\n",
       "      <td>1680</td>\n",
       "      <td>0</td>\n",
       "      <td>1680</td>\n",
       "      <td>0</td>\n",
       "      <td>47.6168</td>\n",
       "      <td>-122.045</td>\n",
       "    </tr>\n",
       "  </tbody>\n",
       "</table>\n",
       "</div>"
      ],
      "text/plain": [
       "      price  sqft_living  waterfront  sqft_above  sqft_basement      lat  \\\n",
       "0  221900.0         1180           0        1180              0  47.5112   \n",
       "1  538000.0         2570           0        2170            400  47.7210   \n",
       "2  180000.0          770           0         770              0  47.7379   \n",
       "3  604000.0         1960           0        1050            910  47.5208   \n",
       "4  510000.0         1680           0        1680              0  47.6168   \n",
       "\n",
       "      long  \n",
       "0 -122.257  \n",
       "1 -122.319  \n",
       "2 -122.233  \n",
       "3 -122.393  \n",
       "4 -122.045  "
      ]
     },
     "execution_count": 9,
     "metadata": {},
     "output_type": "execute_result"
    }
   ],
   "source": [
    "data_df = pd.read_csv('../data/house_data.csv',usecols=NUMERIC_FEAT_COLS+CATEGORY_FEAT_COLS+['price'])\n",
    "data_df.head()"
   ]
  },
  {
   "cell_type": "code",
   "execution_count": 10,
   "metadata": {},
   "outputs": [
    {
     "data": {
      "text/plain": [
       "0    21450\n",
       "1      163\n",
       "Name: waterfront, dtype: int64"
      ]
     },
     "execution_count": 10,
     "metadata": {},
     "output_type": "execute_result"
    }
   ],
   "source": [
    "data_df.waterfront.value_counts()"
   ]
  },
  {
   "cell_type": "code",
   "execution_count": 41,
   "metadata": {},
   "outputs": [
    {
     "data": {
      "text/html": [
       "<div>\n",
       "<style scoped>\n",
       "    .dataframe tbody tr th:only-of-type {\n",
       "        vertical-align: middle;\n",
       "    }\n",
       "\n",
       "    .dataframe tbody tr th {\n",
       "        vertical-align: top;\n",
       "    }\n",
       "\n",
       "    .dataframe thead th {\n",
       "        text-align: right;\n",
       "    }\n",
       "</style>\n",
       "<table border=\"1\" class=\"dataframe\">\n",
       "  <thead>\n",
       "    <tr style=\"text-align: right;\">\n",
       "      <th></th>\n",
       "      <th>wf_0</th>\n",
       "      <th>wf_1</th>\n",
       "    </tr>\n",
       "  </thead>\n",
       "  <tbody>\n",
       "    <tr>\n",
       "      <th>0</th>\n",
       "      <td>1</td>\n",
       "      <td>0</td>\n",
       "    </tr>\n",
       "    <tr>\n",
       "      <th>1</th>\n",
       "      <td>1</td>\n",
       "      <td>0</td>\n",
       "    </tr>\n",
       "    <tr>\n",
       "      <th>2</th>\n",
       "      <td>1</td>\n",
       "      <td>0</td>\n",
       "    </tr>\n",
       "    <tr>\n",
       "      <th>3</th>\n",
       "      <td>1</td>\n",
       "      <td>0</td>\n",
       "    </tr>\n",
       "    <tr>\n",
       "      <th>4</th>\n",
       "      <td>1</td>\n",
       "      <td>0</td>\n",
       "    </tr>\n",
       "  </tbody>\n",
       "</table>\n",
       "</div>"
      ],
      "text/plain": [
       "   wf_0  wf_1\n",
       "0     1     0\n",
       "1     1     0\n",
       "2     1     0\n",
       "3     1     0\n",
       "4     1     0"
      ]
     },
     "execution_count": 41,
     "metadata": {},
     "output_type": "execute_result"
    }
   ],
   "source": [
    "wf_df = pd.get_dummies(data_df['waterfront'],prefix='wf')\n",
    "wf_df.head()\n",
    "# df = pd.concat((data_df,wf_df),axis=1)\n",
    "# df.drop(['waterfront'], axis=1, inplace=True)\n",
    "# df.head()"
   ]
  },
  {
   "cell_type": "code",
   "execution_count": 28,
   "metadata": {},
   "outputs": [
    {
     "data": {
      "text/plain": [
       "array([[0.06716981, 0.09758772, 0.        , 0.21760797, 0.57149751],\n",
       "       [0.17207547, 0.20614035, 0.08298755, 0.16611296, 0.90895931],\n",
       "       [0.03622642, 0.05263158, 0.        , 0.23754153, 0.93614283],\n",
       "       ...,\n",
       "       [0.05509434, 0.08004386, 0.        , 0.18272425, 0.70532411],\n",
       "       [0.09886792, 0.14364035, 0.        , 0.37375415, 0.60897539],\n",
       "       [0.05509434, 0.08004386, 0.        , 0.18272425, 0.70484156]])"
      ]
     },
     "execution_count": 28,
     "metadata": {},
     "output_type": "execute_result"
    }
   ],
   "source": [
    "scaler = MinMaxScaler()\n",
    "scaled_arr = scaler.fit_transform(df[NUMERIC_FEAT_COLS])\n",
    "scaled_arr"
   ]
  },
  {
   "cell_type": "code",
   "execution_count": 37,
   "metadata": {},
   "outputs": [
    {
     "data": {
      "text/html": [
       "<div>\n",
       "<style scoped>\n",
       "    .dataframe tbody tr th:only-of-type {\n",
       "        vertical-align: middle;\n",
       "    }\n",
       "\n",
       "    .dataframe tbody tr th {\n",
       "        vertical-align: top;\n",
       "    }\n",
       "\n",
       "    .dataframe thead th {\n",
       "        text-align: right;\n",
       "    }\n",
       "</style>\n",
       "<table border=\"1\" class=\"dataframe\">\n",
       "  <thead>\n",
       "    <tr style=\"text-align: right;\">\n",
       "      <th></th>\n",
       "      <th>sqft_living</th>\n",
       "      <th>sqft_above</th>\n",
       "      <th>sqft_basement</th>\n",
       "      <th>long</th>\n",
       "      <th>lat</th>\n",
       "      <th>wf_0</th>\n",
       "      <th>wf_1</th>\n",
       "    </tr>\n",
       "  </thead>\n",
       "  <tbody>\n",
       "    <tr>\n",
       "      <th>0</th>\n",
       "      <td>0.067170</td>\n",
       "      <td>0.097588</td>\n",
       "      <td>0.000000</td>\n",
       "      <td>0.217608</td>\n",
       "      <td>0.571498</td>\n",
       "      <td>1</td>\n",
       "      <td>0</td>\n",
       "    </tr>\n",
       "    <tr>\n",
       "      <th>1</th>\n",
       "      <td>0.172075</td>\n",
       "      <td>0.206140</td>\n",
       "      <td>0.082988</td>\n",
       "      <td>0.166113</td>\n",
       "      <td>0.908959</td>\n",
       "      <td>1</td>\n",
       "      <td>0</td>\n",
       "    </tr>\n",
       "    <tr>\n",
       "      <th>2</th>\n",
       "      <td>0.036226</td>\n",
       "      <td>0.052632</td>\n",
       "      <td>0.000000</td>\n",
       "      <td>0.237542</td>\n",
       "      <td>0.936143</td>\n",
       "      <td>1</td>\n",
       "      <td>0</td>\n",
       "    </tr>\n",
       "    <tr>\n",
       "      <th>3</th>\n",
       "      <td>0.126038</td>\n",
       "      <td>0.083333</td>\n",
       "      <td>0.188797</td>\n",
       "      <td>0.104651</td>\n",
       "      <td>0.586939</td>\n",
       "      <td>1</td>\n",
       "      <td>0</td>\n",
       "    </tr>\n",
       "    <tr>\n",
       "      <th>4</th>\n",
       "      <td>0.104906</td>\n",
       "      <td>0.152412</td>\n",
       "      <td>0.000000</td>\n",
       "      <td>0.393688</td>\n",
       "      <td>0.741354</td>\n",
       "      <td>1</td>\n",
       "      <td>0</td>\n",
       "    </tr>\n",
       "  </tbody>\n",
       "</table>\n",
       "</div>"
      ],
      "text/plain": [
       "   sqft_living  sqft_above  sqft_basement      long       lat  wf_0  wf_1\n",
       "0     0.067170    0.097588       0.000000  0.217608  0.571498     1     0\n",
       "1     0.172075    0.206140       0.082988  0.166113  0.908959     1     0\n",
       "2     0.036226    0.052632       0.000000  0.237542  0.936143     1     0\n",
       "3     0.126038    0.083333       0.188797  0.104651  0.586939     1     0\n",
       "4     0.104906    0.152412       0.000000  0.393688  0.741354     1     0"
      ]
     },
     "execution_count": 37,
     "metadata": {},
     "output_type": "execute_result"
    }
   ],
   "source": [
    "scaled_df = pd.DataFrame(scaled_arr, columns=NUMERIC_FEAT_COLS)\n",
    "all_df = pd.concat((scaled_df,wf_df),axis=1)\n",
    "all_df.head()"
   ]
  },
  {
   "cell_type": "code",
   "execution_count": 38,
   "metadata": {},
   "outputs": [],
   "source": [
    "X = all_df.values\n",
    "y = data_df['price']"
   ]
  },
  {
   "cell_type": "code",
   "execution_count": 39,
   "metadata": {},
   "outputs": [],
   "source": [
    "X_train, X_test, y_train, y_test = train_test_split(X,y,test_size=1/3,random_state=10)"
   ]
  },
  {
   "cell_type": "code",
   "execution_count": 48,
   "metadata": {},
   "outputs": [
    {
     "data": {
      "text/plain": [
       "0.6273258697491765"
      ]
     },
     "execution_count": 48,
     "metadata": {},
     "output_type": "execute_result"
    }
   ],
   "source": [
    "lr_model = LinearRegression()\n",
    "lr_model.fit(X_train,y_train)\n",
    "r2_proc = lr_model.score(X_test,y_test)\n",
    "r2_proc"
   ]
  },
  {
   "cell_type": "code",
   "execution_count": 42,
   "metadata": {},
   "outputs": [],
   "source": [
    "X1 = data_df[NUMERIC_FEAT_COLS+CATEGORY_FEAT_COLS].values"
   ]
  },
  {
   "cell_type": "code",
   "execution_count": 44,
   "metadata": {},
   "outputs": [],
   "source": [
    "X1_train, X1_test, y1_train, y1_test = train_test_split(X1,y,test_size=1/3,random_state=10)"
   ]
  },
  {
   "cell_type": "code",
   "execution_count": 49,
   "metadata": {},
   "outputs": [
    {
     "data": {
      "text/plain": [
       "0.6271257979584459"
      ]
     },
     "execution_count": 49,
     "metadata": {},
     "output_type": "execute_result"
    }
   ],
   "source": [
    "lr_model1 = LinearRegression()\n",
    "lr_model1.fit(X1_train,y1_train)\n",
    "r2 = lr_model1.score(X1_test,y1_test)\n",
    "r2"
   ]
  },
  {
   "cell_type": "code",
   "execution_count": 54,
   "metadata": {},
   "outputs": [
    {
     "data": {
      "text/plain": [
       "0.031902975668020195"
      ]
     },
     "execution_count": 54,
     "metadata": {},
     "output_type": "execute_result"
    }
   ],
   "source": [
    "((r2_proc-r2)/r2)*100"
   ]
  },
  {
   "cell_type": "code",
   "execution_count": null,
   "metadata": {},
   "outputs": [],
   "source": []
  },
  {
   "cell_type": "code",
   "execution_count": null,
   "metadata": {},
   "outputs": [],
   "source": []
  },
  {
   "cell_type": "code",
   "execution_count": null,
   "metadata": {},
   "outputs": [],
   "source": [
    "```python\n",
    "\"\"\"\n",
    "    任务：房屋价格预测\n",
    "\"\"\"\n",
    "import pandas as pd\n",
    "from sklearn.linear_model import LinearRegression\n",
    "from sklearn.preprocessing import OneHotEncoder, MinMaxScaler\n",
    "import numpy as np\n",
    "\n",
    "DATA_FILE = './data_ai/house_data.csv'\n",
    "\n",
    "# 使用的特征列\n",
    "NUMERIC_FEAT_COLS = ['sqft_living', 'sqft_above', 'sqft_basement', 'long', 'lat']\n",
    "CATEGORY_FEAT_COLS = ['waterfront']\n",
    "\n",
    "\n",
    "def process_features(X_train, X_test):\n",
    "    \"\"\"\n",
    "        特征预处理\n",
    "    \"\"\"\n",
    "    # 1. 对类别型特征做one-hot encoding\n",
    "    encoder = OneHotEncoder(sparse=False)\n",
    "    encoded_tr_feat = encoder.fit_transform(X_train[CATEGORY_FEAT_COLS])\n",
    "    encoded_te_feat = encoder.transform(X_test[CATEGORY_FEAT_COLS])\n",
    "\n",
    "    # 2. 对数值型特征值做归一化处理\n",
    "    scaler = MinMaxScaler()\n",
    "    scaled_tr_feat = scaler.fit_transform(X_train[NUMERIC_FEAT_COLS])\n",
    "    scaled_te_feat = scaler.transform(X_test[NUMERIC_FEAT_COLS])\n",
    "\n",
    "    # 3. 特征合并\n",
    "    X_train_proc = np.hstack((encoded_tr_feat, scaled_tr_feat))\n",
    "    X_test_proc = np.hstack((encoded_te_feat, scaled_te_feat))\n",
    "\n",
    "    return X_train_proc, X_test_proc\n",
    "\n",
    "\n",
    "def main():\n",
    "    \"\"\"\n",
    "        主函数\n",
    "    \"\"\"\n",
    "    house_data = pd.read_csv(DATA_FILE, usecols=NUMERIC_FEAT_COLS + CATEGORY_FEAT_COLS + ['price'])\n",
    "\n",
    "    X = house_data[NUMERIC_FEAT_COLS + CATEGORY_FEAT_COLS]\n",
    "    y = house_data['price']\n",
    "\n",
    "    # 分割数据集\n",
    "    X_train, X_test, y_train, y_test = train_test_split(X, y, test_size=1/3, random_state=10)\n",
    "\n",
    "    # 建立线性回归模型\n",
    "    linear_reg_model = LinearRegression()\n",
    "    # 模型训练\n",
    "    linear_reg_model.fit(X_train, y_train)\n",
    "    # 验证模型\n",
    "    r2_score = linear_reg_model.score(X_test, y_test)\n",
    "    print('模型的R2值', r2_score)\n",
    "\n",
    "    # 数据预处理\n",
    "    X_train_proc, X_test_proc = process_features(X_train, X_test)\n",
    "    # 建立线性回归模型\n",
    "    linear_reg_model2 = LinearRegression()\n",
    "    # 模型训练\n",
    "    linear_reg_model2.fit(X_train_proc, y_train)\n",
    "    # 验证模型\n",
    "    r2_score2 = linear_reg_model2.score(X_test_proc, y_test)\n",
    "    print('特征处理后，模型的R2值', r2_score2)\n",
    "\n",
    "    print('模型提升了{:.2f}%'.format( (r2_score2 - r2_score) / r2_score * 100) )\n",
    "\n",
    "\n",
    "if __name__ == '__main__':\n",
    "    main()\n",
    "```"
   ]
  }
 ],
 "metadata": {
  "kernelspec": {
   "display_name": "Python 3",
   "language": "python",
   "name": "python3"
  },
  "language_info": {
   "codemirror_mode": {
    "name": "ipython",
    "version": 3
   },
   "file_extension": ".py",
   "mimetype": "text/x-python",
   "name": "python",
   "nbconvert_exporter": "python",
   "pygments_lexer": "ipython3",
   "version": "3.6.3"
  }
 },
 "nbformat": 4,
 "nbformat_minor": 2
}
